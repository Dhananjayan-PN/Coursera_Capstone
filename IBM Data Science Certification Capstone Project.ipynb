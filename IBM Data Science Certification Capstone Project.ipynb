{
    "cells": [
        {
            "cell_type": "markdown",
            "metadata": {
                "collapsed": true
            },
            "source": "<h1 align='center'> Finding the Best Neighborhood to Open a Restaurant in NYC</h1>"
        },
        {
            "cell_type": "markdown",
            "metadata": {},
            "source": "# 1. Introduction"
        },
        {
            "cell_type": "markdown",
            "metadata": {},
            "source": "New York City, often called 'The City' or simply 'New York', is the most populous city in the United States. New York City has been described as the cultural, financial, and media capital of the world, significantly influencing commerce, entertainment, research, technology, education, politics, tourism, art, fashion, and sports. With an estimated 2019 population of 8,336,817 distributed over about 302.6 square mile, New York is also the most densely populated major city in the United States.\n\nWith such a densely populated city, it is found that New York is filled with restaurants in almost all neighborhoods. In such a city, it is often difficult for someone to find the best place to open their own restaurant.\n\nIn this project, we will be leveraging the data provided to us by the vast internet, to help us find the best neighborhood for a restaurant-owner to open their restaurant, in order to get guaranteed business."
        },
        {
            "cell_type": "markdown",
            "metadata": {},
            "source": "# 2. Data"
        },
        {
            "cell_type": "markdown",
            "metadata": {},
            "source": "## 2.1 Source & Acquisition"
        },
        {
            "cell_type": "markdown",
            "metadata": {},
            "source": "In order to carry forward this project we will need to gather the required data from the internet. The larger the dataset, the better our model will perform in finding the best neighborhoods in New York.\n\nOne of the main datasets we will be using is the neighborhood dataset for New York City. We will use <a href='https://cocl.us/new_york_dataset'>this</a> NYC dataset to get all the data we need for NYC Neighborhoods and Boroughs.\n\nWe will also be leveraging the <a href='https://developer.foursquare.com/'>Foursquare API</a> in this project, in order to get data related to all the restaurants(venues) in a neighborhood."
        },
        {
            "cell_type": "markdown",
            "metadata": {},
            "source": "##  2.2 Cleaning"
        },
        {
            "cell_type": "markdown",
            "metadata": {},
            "source": "# 3. Methodology & Code"
        },
        {
            "cell_type": "markdown",
            "metadata": {},
            "source": "# 4. Results"
        },
        {
            "cell_type": "markdown",
            "metadata": {},
            "source": "# 5. Discussion"
        },
        {
            "cell_type": "markdown",
            "metadata": {},
            "source": "# 6. Conclusion"
        }
    ],
    "metadata": {
        "kernelspec": {
            "display_name": "Python 3.6",
            "language": "python",
            "name": "python3"
        },
        "language_info": {
            "codemirror_mode": {
                "name": "ipython",
                "version": 3
            },
            "file_extension": ".py",
            "mimetype": "text/x-python",
            "name": "python",
            "nbconvert_exporter": "python",
            "pygments_lexer": "ipython3",
            "version": "3.6.9"
        }
    },
    "nbformat": 4,
    "nbformat_minor": 1
}