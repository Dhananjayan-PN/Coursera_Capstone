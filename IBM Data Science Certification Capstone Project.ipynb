{
    "cells": [
        {
            "cell_type": "markdown",
            "metadata": {
                "collapsed": true
            },
            "source": "<h1 align='center'> Finding the Best Neighborhood to Open a Restaurant in NYC</h1>"
        },
        {
            "cell_type": "markdown",
            "metadata": {},
            "source": "# 1. Introduction"
        },
        {
            "cell_type": "markdown",
            "metadata": {},
            "source": "New York City, often called 'The City' or simply 'New York', is the most populous city in the United States. New York City has been described as the cultural, financial, and media capital of the world, significantly influencing commerce, entertainment, research, technology, education, politics, tourism, art, fashion, and sports. With an estimated 2019 population of 8,336,817 distributed over about 302.6 square mile, New York is also the most densely populated major city in the United States.\n\nWith such a densely populated city, it is found that New York is filled with restaurants in almost all neighborhoods. In such a city, it is often difficult for someone to find the best place to open their own restaurant.\n\nIn this project, we will be leveraging the data provided to us by the vast internet, to help us find the best neighborhood for a restaurant-owner to open their restaurant, in order to get guaranteed business."
        },
        {
            "cell_type": "markdown",
            "metadata": {},
            "source": "# 2. Data"
        },
        {
            "cell_type": "markdown",
            "metadata": {},
            "source": "## 2.1 Source"
        },
        {
            "cell_type": "markdown",
            "metadata": {},
            "source": "In order to carry forward this project we will need to gather the required data from the internet. The larger the dataset, the better our model will perform in finding the best neighborhoods in New York.\n\nOne of the main datasets we will be using is the neighborhood dataset for New York City. We will use <a href='https://cocl.us/new_york_dataset'>this</a> NYC dataset to get all the data we need for NYC Neighborhoods and Boroughs.\n\nWe will also be leveraging the <a href='https://developer.foursquare.com/'>Foursquare API</a> in this project, in order to get data related to all the restaurants(venues) in a neighborhood."
        },
        {
            "cell_type": "markdown",
            "metadata": {},
            "source": "## 2.2 Acquisition"
        },
        {
            "cell_type": "markdown",
            "metadata": {},
            "source": "**Lets fetch and load the NYC dataset with all the Neighborhoods and Boroughs in NYC**"
        },
        {
            "cell_type": "code",
            "execution_count": null,
            "metadata": {},
            "outputs": [],
            "source": "import json # importing a library required for handling .json files\nimport pandas as pd # importing a library useful for handling data with DataFrames"
        },
        {
            "cell_type": "code",
            "execution_count": null,
            "metadata": {},
            "outputs": [],
            "source": "!wget -q -O 'newyork_data.json' https://cocl.us/new_york_dataset # Fetching the data from a remote cloud server\nwith open('newyork_data.json') as json_data: # Opening the .json file and loading the data into a variable\n    newyork_data = json.load(json_data)\n\nneighborhoods_data = newyork_data['features'] # Since all the data we need is strored in the 'features' key, we will have to extract that from the raw json\n\ncolumn_names = ['Borough', 'Neighborhood', 'Latitude', 'Longitude'] # Defining the columns of the DataFrame\nneighborhoods = pd.DataFrame(columns=column_names) # Creating a DataFrame for storing the NYC data\n\nfor data in neighborhoods_data: # Looping through the data points in out dataset and storing them in a pandas DataFrame for easier analysis and usage \n    borough = neighborhood_name = data['properties']['borough'] \n    neighborhood_name = data['properties']['name']\n    neighborhood_latlon = data['geometry']['coordinates']\n    neighborhood_lat = neighborhood_latlon[1]\n    neighborhood_lon = neighborhood_latlon[0]\n    neighborhoods = neighborhoods.append({'Borough': borough,\n                                          'Neighborhood': neighborhood_name,\n                                          'Latitude': neighborhood_lat,\n                                          'Longitude': neighborhood_lon}, ignore_index=True)\n\n\nprint('New York City Neighborhood Data Loaded with {} boroughs and {} neighborhoods!'.format(len(neighborhoods['Borough'].unique()),neighborhoods.shape[0]))"
        },
        {
            "cell_type": "markdown",
            "metadata": {},
            "source": "**Now that we have the NYC dataset loaded, we need to use the Foursquare API to fetch all the venues in NYC neighborhoods. Here we'll be creating a function that returns the closest 100 venues given a neighborhood's coordinates and this function will be called form wherever we need it.**"
        },
        {
            "cell_type": "code",
            "execution_count": null,
            "metadata": {},
            "outputs": [],
            "source": "import requests"
        },
        {
            "cell_type": "code",
            "execution_count": null,
            "metadata": {},
            "outputs": [],
            "source": "# The code was removed by Watson Studio for sharing."
        },
        {
            "cell_type": "code",
            "execution_count": null,
            "metadata": {},
            "outputs": [],
            "source": "# Creating a function for retrieving the top 100 venues in every neighborhood, which can be used when required\nLIMIT = 100\nradius = 500\ndef getNearbyVenues(names, latitudes, longitudes, radius=500):\n    \n    venues_list=[]\n    for name, lat, lng in zip(names, latitudes, longitudes):            \n        # create the API request URL\n        url = 'https://api.foursquare.com/v2/venues/explore?&client_id={}&client_secret={}&v={}&ll={},{}&radius={}&limit={}'.format(\n            CLIENT_ID, \n            CLIENT_SECRET, \n            VERSION, \n            lat, \n            lng, \n            radius, \n            LIMIT)\n        results = requests.get(url).json()[\"response\"]['groups'][0]['items']\n        venues_list.append([(\n            name, \n            lat,\n            lng, \n            v['venue']['name'], \n            v['venue']['location']['lat'], \n            v['venue']['location']['lng'],  \n            v['venue']['categories'][0]['name']) for v in results])\n    nearby_venues = pd.DataFrame([item for venue_list in venues_list for item in venue_list])\n    nearby_venues.columns = ['Neighborhood', \n                  'Neighborhood Latitude', \n                  'Neighborhood Longitude', \n                  'Venue', \n                  'Venue Latitude', \n                  'Venue Longitude', \n                  'Venue Category']\n    \n    return(nearby_venues)"
        },
        {
            "cell_type": "markdown",
            "metadata": {},
            "source": "##  2.3 Cleaning"
        },
        {
            "cell_type": "markdown",
            "metadata": {},
            "source": "**First, the NYC dataset that we are using in this project is extremely accurate, clean and structured, and hence it doesn't require any cleaning (like removing missing values, etc). The dataset can be used as is due to its high quality**\n\n**The Foursquare API is an API that has been created to ensure that the user is able to retrieve clean, accurate and a large variety of data for their own use. Hence, the Foursquare data does not require any cleaning.**"
        },
        {
            "cell_type": "markdown",
            "metadata": {},
            "source": "# 3. Methodology & Code"
        },
        {
            "cell_type": "markdown",
            "metadata": {},
            "source": "# 4. Results"
        },
        {
            "cell_type": "markdown",
            "metadata": {},
            "source": "# 5. Discussion"
        },
        {
            "cell_type": "markdown",
            "metadata": {},
            "source": "# 6. Conclusion"
        }
    ],
    "metadata": {
        "kernelspec": {
            "display_name": "Python 3.6",
            "language": "python",
            "name": "python3"
        },
        "language_info": {
            "codemirror_mode": {
                "name": "ipython",
                "version": 3
            },
            "file_extension": ".py",
            "mimetype": "text/x-python",
            "name": "python",
            "nbconvert_exporter": "python",
            "pygments_lexer": "ipython3",
            "version": "3.6.9"
        }
    },
    "nbformat": 4,
    "nbformat_minor": 1
}